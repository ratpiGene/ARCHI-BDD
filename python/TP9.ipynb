{
 "cells": [
  {
   "cell_type": "code",
   "execution_count": 1,
   "id": "75087bd9",
   "metadata": {},
   "outputs": [
    {
     "ename": "",
     "evalue": "",
     "output_type": "error",
     "traceback": [
      "\u001b[1;31mThe Kernel crashed while executing code in the current cell or a previous cell. \n",
      "\u001b[1;31mPlease review the code in the cell(s) to identify a possible cause of the failure. \n",
      "\u001b[1;31mClick <a href='https://aka.ms/vscodeJupyterKernelCrash'>here</a> for more info. \n",
      "\u001b[1;31mView Jupyter <a href='command:jupyter.viewOutput'>log</a> for further details."
     ]
    }
   ],
   "source": [
    "import mysql.connector\n",
    "\n",
    "# Coordonnées de référence\n",
    "latitude_ref = 48.85\n",
    "longitude_ref = 2.35\n",
    "\n",
    "# Connexion à la base MySQL\n",
    "conn = mysql.connector.connect(\n",
    "    host=\"localhost\",\n",
    "    user=\"root\",  \n",
    "    password=\"root\", \n",
    "    database=\"TP9\"\n",
    ")\n",
    "\n",
    "cursor = conn.cursor()\n",
    "\n",
    "# Requête SQL avec ST_Distance_Sphere\n",
    "query = f\"\"\"\n",
    "    SELECT \n",
    "        name,\n",
    "        latitude,\n",
    "        longitude,\n",
    "        ST_Distance_Sphere(\n",
    "            POINT(longitude, latitude),\n",
    "            POINT({longitude_ref}, {latitude_ref})\n",
    "        ) AS distance_m\n",
    "    FROM products\n",
    "    ORDER BY distance_m ASC\n",
    "    LIMIT 3;\n",
    "\"\"\"\n",
    "\n",
    "cursor.execute(query)\n",
    "results = cursor.fetchall()\n",
    "\n",
    "# Affichage des résultats\n",
    "print(f\"🧭 Produits les plus proches de ({latitude_ref}, {longitude_ref}) :\\n\")\n",
    "for name, lat, lon, distance in results:\n",
    "    print(f\"- {name} ({lat}, {lon}) → {distance:.2f} mètres\")\n",
    "\n",
    "# Fermeture\n",
    "cursor.close()"
   ]
  }
 ],
 "metadata": {
  "kernelspec": {
   "display_name": "Python 3",
   "language": "python",
   "name": "python3"
  },
  "language_info": {
   "codemirror_mode": {
    "name": "ipython",
    "version": 3
   },
   "file_extension": ".py",
   "mimetype": "text/x-python",
   "name": "python",
   "nbconvert_exporter": "python",
   "pygments_lexer": "ipython3",
   "version": "3.12.2"
  }
 },
 "nbformat": 4,
 "nbformat_minor": 5
}
